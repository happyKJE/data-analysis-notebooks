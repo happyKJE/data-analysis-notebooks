{
  "nbformat": 4,
  "nbformat_minor": 0,
  "metadata": {
    "colab": {
      "provenance": [],
      "authorship_tag": "ABX9TyPDdO9vtJbyXdXVMrNMJoW+"
    },
    "kernelspec": {
      "name": "python3",
      "display_name": "Python 3"
    },
    "language_info": {
      "name": "python"
    }
  },
  "cells": [
    {
      "cell_type": "code",
      "source": [
        "import os\n",
        "import warnings\n",
        "\n",
        "warnings.filterwarnings('ignore')\n",
        "\n",
        "os.environ[\"SERPER_API_KEY\"] = \"SERPER_API_KEY\"\n",
        "os.environ[\"OPENAI_API_KEY\"] = \"OPENAI_API_KEY\""
      ],
      "metadata": {
        "id": "z9I-bwY4R2zP"
      },
      "execution_count": 8,
      "outputs": []
    },
    {
      "cell_type": "code",
      "source": [
        "from crewai import Agent, Task, Crew\n",
        "from crewai.process import Process\n",
        "\n",
        "from crewai_tools import (\n",
        "    SerperDevTool,\n",
        "    WebsiteSearchTool,\n",
        "    ScrapeWebsiteTool\n",
        ")"
      ],
      "metadata": {
        "id": "D9muI6wtSXnn"
      },
      "execution_count": 2,
      "outputs": []
    },
    {
      "cell_type": "code",
      "source": [
        "from langchain_openai import ChatOpenAI\n",
        "\n",
        "llm = ChatOpenAI(model = \"gpt-4o-mini\")\n",
        "\n",
        "search_tool = SerperDevTool()\n",
        "web_rag_tool = WebsiteSearchTool()\n",
        "scrap_tool = ScrapeWebsiteTool()\n",
        "\n",
        "researcher = Agent(\n",
        "    role = '테크 트렌드 연구원',\n",
        "    goal = \"인공지능 분야의 최신 기술 트렌드를 한국어로 제공합니다. 지금은 2025년 6월 입니다.\",\n",
        "    backstory = '기술 트렌드에 예리한 안목을 지닌 전문 분석가이자 AI 개발자 입니다.',\n",
        "    tools=[search_tool, web_rag_tool],\n",
        "    verbose = False,\n",
        "    max_iter=5,\n",
        "    llm = llm\n",
        ")\n",
        "\n",
        "writer = Agent(\n",
        "    role='뉴스레터 작성자',\n",
        "    goal = '최신 AI 기술 트렌드에 대한 매력적인 테크 뉴스레터를 한국어로 작성하세요. 지금은 2025년 6월입니다.',\n",
        "    backstory='기술에 대한 열정을 가진 숙련된 작가입니다.',\n",
        "    verbose=False,\n",
        "    allow_delegation=False,\n",
        "    llm=llm\n",
        ")\n",
        "\n",
        "research = Task(\n",
        "    description='AI 업계의 최신 기술 동향을 조사하고 요약을 제공하세요,',\n",
        "    expected_output = 'AI 업계에서 가장 주목받는 3대 기술개발 동향과 그 중요성에 대한 신선한 관점을 요약한 글',\n",
        "    agent=researcher,\n",
        ")\n",
        "\n",
        "write = Task(\n",
        "    description=\"\"\"테크 트렌드 연구원의 요약을 바탕으로 AI 산업에 대한 매력적인 테크 뉴스레터를 작성하세요. 테크 뉴스레터이므로 전문적인 용어를 사용해도 괜찮습니다.\"\"\",\n",
        "    expected_output='최신 기술 관련 소식을 재밌는 말투로 소개하는 4문단짜리 마크다운 형식 뉴스레터',\n",
        "    agent= writer,\n",
        "    output_file=r'C:\\Users\\user\\new_post.md'\n",
        ")\n",
        "\n",
        "crew = Crew(\n",
        "    agents=[researcher, writer],\n",
        "    tasks=[research, write],\n",
        "    verbose = False,\n",
        "    process=Process.sequential\n",
        ")\n",
        "\n",
        "result = crew.kickoff()"
      ],
      "metadata": {
        "colab": {
          "base_uri": "https://localhost:8080/"
        },
        "id": "oRrcVPn0Spfl",
        "outputId": "a97f7d0f-a2e8-4738-890e-3ff9f0640540"
      },
      "execution_count": 7,
      "outputs": [
        {
          "output_type": "stream",
          "name": "stderr",
          "text": [
            "/usr/local/lib/python3.11/dist-packages/alembic/config.py:577: DeprecationWarning: No path_separator found in configuration; falling back to legacy splitting on spaces, commas, and colons for prepend_sys_path.  Consider adding path_separator=os to Alembic config.\n",
            "  util.warn_deprecated(\n",
            "/usr/local/lib/python3.11/dist-packages/chromadb/types.py:144: PydanticDeprecatedSince211: Accessing the 'model_fields' attribute on the instance is deprecated. Instead, you should access this attribute from the model class. Deprecated in Pydantic V2.11 to be removed in V3.0.\n",
            "  return self.model_fields  # pydantic 2.x\n"
          ]
        }
      ]
    },
    {
      "cell_type": "code",
      "source": [
        "from IPython.display import display, Markdown\n",
        "display(Markdown(result.raw))"
      ],
      "metadata": {
        "colab": {
          "base_uri": "https://localhost:8080/",
          "height": 506
        },
        "id": "YquXkoJdctkb",
        "outputId": "64e3981f-f25c-44d5-d6fc-38619a38d6eb"
      },
      "execution_count": 5,
      "outputs": [
        {
          "output_type": "display_data",
          "data": {
            "text/plain": [
              "<IPython.core.display.Markdown object>"
            ],
            "text/markdown": "# 📰 AI 뉴스레터: 2025년의 혁신적 AI 트렌드\n\n안녕하세요, 여러분! 오늘은 2025년의 AI 세계에서 화제를 모으고 있는 세 가지 기술 트렌드에 대해 이야기해보려 합니다. 흥미진진한 에이전틱 AI부터 데이터 거버넌스에 이르기까지, 어떤 변화가 우리를 기다리고 있는지 함께 살펴보시죠!\n\n## 🌟 에이전틱 AI: 자율적 결정을 내리는 AI의 시대\n\n2025년에는 에이전틱 AI, 즉 자율적으로 결정을 내릴 수 있는 AI 시스템이 다양한 산업에 도입될 것으로 기대됩니다. 이 AI들은 사전 설정된 규칙을 넘어, 주어진 환경에서 스스로 학습하고 적응하며 복잡한 작업을 수행할 수 있습니다. 예를 들어, 제조업체는 생산 라인에서 에이전틱 AI를 활용하여 실시간으로 문제를 해결하고, 더 효율적인 작업 흐름을 구축할 수 있게 됩니다. 이는 기업들이 변화하는 시장에 더욱 빠르게 대응할 수 있게 해줄 것입니다. 정말 기대되지 않나요?\n\n## 🎨 멀티모달 AI: 데이터의 통합적 이해\n\n다음으로 주목할 점은 멀티모달 AI입니다. 이 기술은 텍스트, 이미지, 음성 등 다양한 데이터를 동시에 처리하고 이해할 수 있는 능력을 가지고 있습니다. 2025년에는 사용자 경험을 개인화하고, 더욱 정교한 추천 시스템을 구축하는 데 기여할 것입니다. 고객의 행동을 더 깊이 이해하고, 맞춤형 서비스를 제공할 수 있는 기회를 제공하는 것이죠. 기업들은 이 기술을 통해 고객의 요구를 더욱 효과적으로 충족시킬 수 있게 될 것입니다. 다채로운 데이터의 세계로의 초대, 정말 매력적이지 않나요?\n\n## 📊 AI와 데이터 거버넌스: 효율적인 데이터 관리의 시작\n\n마지막으로 AI를 통한 데이터 거버넌스의 중요성이 갈수록 커지고 있습니다. 2025년에는 AI 시스템이 데이터를 자동으로 분석하고, 품질을 유지하며, 규정 준수를 강화하는 데 핵심적인 역할을 할 것입니다. 데이터 관리가 자율적으로 이루어지면서 기업들은 데이터 기반의 의사결정을 더 효과적으로 할 수 있게 됩니다. 이는 기업의 경쟁력을 크게 향상시키는 요소가 될 것입니다. 데이터의 힘을 제대로 활용하는 시대가 오는 것 같습니다!\n\n## 🚀 결론: AI의 미래는 지금 시작된다!\n\n이러한 AI 기술 트렌드는 단순한 도구에서 벗어나 기업의 전략적 자산으로 자리 잡고 있다는 것을 보여줍니다. AI가 더욱 발전하면서 기업들은 새로운 기회를 창출하고 지속 가능한 경쟁력을 확보할 수 있을 것입니다. 앞으로 어떤 혁신이 우리를 기다리고 있을지, 기대가 큽니다! 다음 뉴스레터에서 또 만나요!"
          },
          "metadata": {}
        }
      ]
    }
  ]
}