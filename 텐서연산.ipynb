{
  "nbformat": 4,
  "nbformat_minor": 0,
  "metadata": {
    "colab": {
      "provenance": [],
      "gpuType": "T4",
      "authorship_tag": "ABX9TyPEYDBBJkqMQMJKn2lmKcbG"
    },
    "kernelspec": {
      "name": "python3",
      "display_name": "Python 3"
    },
    "language_info": {
      "name": "python"
    },
    "accelerator": "GPU"
  },
  "cells": [
    {
      "cell_type": "code",
      "execution_count": null,
      "metadata": {
        "id": "3DM0210vBfhP"
      },
      "outputs": [],
      "source": [
        "import torch"
      ]
    },
    {
      "cell_type": "code",
      "source": [
        "data = [[1,2],[3,4]]"
      ],
      "metadata": {
        "id": "5HBLvRHhBlvs"
      },
      "execution_count": null,
      "outputs": []
    },
    {
      "cell_type": "code",
      "source": [
        "x = torch.tensor(data)\n",
        "print(x.is_cuda)\n",
        "\n",
        "x=x.cuda()\n",
        "print(x.is_cuda)\n",
        "x=x.cpu()\n",
        "print(x.is_cuda)"
      ],
      "metadata": {
        "colab": {
          "base_uri": "https://localhost:8080/"
        },
        "id": "GeWKGBSuBqj6",
        "outputId": "abcf62c9-a384-41ec-bb03-bcc0adb9d305"
      },
      "execution_count": null,
      "outputs": [
        {
          "output_type": "stream",
          "name": "stdout",
          "text": [
            "False\n",
            "True\n",
            "False\n"
          ]
        }
      ]
    },
    {
      "cell_type": "markdown",
      "source": [
        "## 텐서 소개 및 생성 방법\n",
        "* PyTorch에서의 텐서(tensor)는 기능적으로 넘파이(NumPy)와 매우 유사하다.\n",
        "* 기본적으로 다차원 배열을 처리하기에 적합한 자료구조로 이해할 수 있다.\n",
        "* PyTorch의 텐서는 \"자동 미분\"기능을 제공한다."
      ],
      "metadata": {
        "id": "vRcp8tnnB62y"
      }
    },
    {
      "cell_type": "markdown",
      "source": [
        "### 1) 텐서의 속성\n",
        "* 텐서의 기본 속성으로는 다음과 같은 것들이 있다.\n",
        "\n",
        "    * 모양(shape)\n",
        "    * 자료형(data type)\n",
        "    * 저장된 장치"
      ],
      "metadata": {
        "id": "L-SLlGO8Z73w"
      }
    },
    {
      "cell_type": "code",
      "source": [
        "# 3행 4열짜리 텐서를 생성\n",
        "tensor = torch.rand(3,4)\n",
        "\n",
        "print(tensor)\n",
        "# 텐서의 모양 (차원 구조) 확인\n",
        "print(f\"shape:{tensor.shape}\")\n",
        "# 텐서의 자료형\n",
        "print(f\"Data type {tensor.dtype}\")\n",
        "# 텐서가 CPU에 있는지, GPU에 있는지 확인\n",
        "print(f\"device {tensor.device}\")"
      ],
      "metadata": {
        "colab": {
          "base_uri": "https://localhost:8080/"
        },
        "id": "p7U9FmDw01fn",
        "outputId": "692b46bd-00ca-4203-df44-d908315f85a6"
      },
      "execution_count": null,
      "outputs": [
        {
          "output_type": "stream",
          "name": "stdout",
          "text": [
            "tensor([[0.8488, 0.1271, 0.4081, 0.8312],\n",
            "        [0.6592, 0.8759, 0.8317, 0.4854],\n",
            "        [0.1602, 0.7377, 0.3778, 0.5250]])\n",
            "shape:torch.Size([3, 4])\n",
            "Data type torch.float32\n",
            "device cpu\n"
          ]
        }
      ]
    },
    {
      "cell_type": "markdown",
      "source": [
        "### 2)텐서 초기화\n",
        "\n",
        "* 리스트 데이터에서 직접 텐서를 초기화할 수 있다."
      ],
      "metadata": {
        "id": "d0Kp43kY1R4e"
      }
    },
    {
      "cell_type": "code",
      "source": [
        "data = [\n",
        "    [1,2],\n",
        "    [3,4]\n",
        "]\n",
        "x = torch.tensor(data)\n",
        "\n",
        "print(x)"
      ],
      "metadata": {
        "colab": {
          "base_uri": "https://localhost:8080/"
        },
        "id": "KDW8ZDlLKuYU",
        "outputId": "5e60cdd7-5301-4347-c133-051019f1bbfb"
      },
      "execution_count": null,
      "outputs": [
        {
          "output_type": "stream",
          "name": "stdout",
          "text": [
            "tensor([[1, 2],\n",
            "        [3, 4]])\n"
          ]
        }
      ]
    },
    {
      "cell_type": "markdown",
      "source": [
        "* NumPy 배열에서 텐서을 초기화할 수 있다."
      ],
      "metadata": {
        "id": "SXmXOKmgK6xD"
      }
    },
    {
      "cell_type": "code",
      "source": [
        "a = torch.tensor([5])\n",
        "b = torch.tensor([7])\n",
        "\n",
        "\n",
        "c=(a + b).numpy()\n",
        "print(c)\n",
        "print(type(c))\n",
        "\n",
        "result = c + 10\n",
        "tensor = torch.from_numpy(result)\n",
        "print(tensor)\n",
        "print(type(tensor))"
      ],
      "metadata": {
        "colab": {
          "base_uri": "https://localhost:8080/"
        },
        "id": "UsYxh8-AK_tC",
        "outputId": "70cf8702-f0f7-4def-e9f5-b0bb90e933f2"
      },
      "execution_count": null,
      "outputs": [
        {
          "output_type": "stream",
          "name": "stdout",
          "text": [
            "[12]\n",
            "<class 'numpy.ndarray'>\n",
            "tensor([22])\n",
            "<class 'torch.Tensor'>\n"
          ]
        }
      ]
    },
    {
      "cell_type": "markdown",
      "source": [
        "### 3) 다른 텐서로부터 텐서 초기화하기\n",
        "\n",
        "* 다른 텐서의 정보를 토대로 텐서를 초기화할 수 있다.\n",
        "* 텐서의 속성: 모양(shape), 자료형(data type)"
      ],
      "metadata": {
        "id": "k_c8cOHokDzx"
      }
    },
    {
      "cell_type": "code",
      "source": [
        "x = torch.tensor([\n",
        "    [5,7],\n",
        "    [1,2]\n",
        "])\n",
        "\n",
        "# x와 같은 모양과 자료형을 가지지만, 값이 1인 텐서 생성\n",
        "x_ones = torch.ones_like(x)\n",
        "print(x_ones)\n",
        "\n",
        "# x와 같은 모양을 가지되, 자료형은 float으로 덮어쓰고, 값은 랜덤으로 채우기\n",
        "x_rand = torch.rand_like(x, dtype = torch.float32) #uniform distribution[0,1)\n",
        "print(x_rand)"
      ],
      "metadata": {
        "colab": {
          "base_uri": "https://localhost:8080/"
        },
        "id": "4lIfpq1Mkma6",
        "outputId": "74455b4e-6897-4e67-fdea-36bc334cb66e"
      },
      "execution_count": null,
      "outputs": [
        {
          "output_type": "stream",
          "name": "stdout",
          "text": [
            "tensor([[1, 1],\n",
            "        [1, 1]])\n",
            "tensor([[0.1052, 0.5718],\n",
            "        [0.1941, 0.3126]])\n"
          ]
        }
      ]
    },
    {
      "cell_type": "markdown",
      "source": [
        "## 텐서의 형변환 및 차원조작\n",
        "* 텐서는 넘파이(NumPy) 배열처럼 조작할 수 있다."
      ],
      "metadata": {
        "id": "woHp6SrhkA_S"
      }
    },
    {
      "cell_type": "markdown",
      "source": [
        "### 1) 텐서의 특정 차원 접근하기\n",
        "    \n",
        "* 텐서의 원하는 차원에 접근할 수 있다."
      ],
      "metadata": {
        "id": "cNS9pOcImPM7"
      }
    },
    {
      "cell_type": "code",
      "source": [
        "tensor = torch.tensor([\n",
        "    [1,2,3,4],\n",
        "    [5,6,7,8],\n",
        "    [9,10,11,12]\n",
        "])\n",
        "\n",
        "print(tensor[0]) #first row\n",
        "print(tensor[:,0]) #first column\n",
        "print(tensor[...,-1]) # last column"
      ],
      "metadata": {
        "colab": {
          "base_uri": "https://localhost:8080/"
        },
        "id": "R-WDeajjmS3x",
        "outputId": "0fca1dd2-7ad0-42d3-d0a3-69678a092770"
      },
      "execution_count": null,
      "outputs": [
        {
          "output_type": "stream",
          "name": "stdout",
          "text": [
            "tensor([1, 2, 3, 4])\n",
            "tensor([1, 5, 9])\n",
            "tensor([ 4,  8, 12])\n"
          ]
        }
      ]
    },
    {
      "cell_type": "markdown",
      "source": [
        "### 2) 텐서 이어붙이기 (concatenate)\n",
        "*두 텐서를 이어 붙여 연결하여 새로운 텐서를 만들 수 있다."
      ],
      "metadata": {
        "id": "A5uoikrSojur"
      }
    },
    {
      "cell_type": "code",
      "source": [
        "tensor = torch.tensor([\n",
        "    [1,2,3,4],\n",
        "    [5,6,7,8],\n",
        "    [9,10,11,12]\n",
        "])\n",
        "\n",
        "# dim: 텐서를 이어 붙이기 위한 축\n",
        "# 0번 축(행)을 기준으로 이어 붙이기\n",
        "result = torch.cat([tensor, tensor, tensor], dim=0)\n",
        "print(result)\n",
        "\n",
        "result = torch.cat([tensor, tensor, tensor],dim = 1)\n",
        "print(result)"
      ],
      "metadata": {
        "colab": {
          "base_uri": "https://localhost:8080/"
        },
        "id": "Fp_bFAWVotYi",
        "outputId": "39e9d117-d002-4c2d-9170-a7fafdd92c44"
      },
      "execution_count": null,
      "outputs": [
        {
          "output_type": "stream",
          "name": "stdout",
          "text": [
            "tensor([[ 1,  2,  3,  4],\n",
            "        [ 5,  6,  7,  8],\n",
            "        [ 9, 10, 11, 12],\n",
            "        [ 1,  2,  3,  4],\n",
            "        [ 5,  6,  7,  8],\n",
            "        [ 9, 10, 11, 12],\n",
            "        [ 1,  2,  3,  4],\n",
            "        [ 5,  6,  7,  8],\n",
            "        [ 9, 10, 11, 12]])\n",
            "tensor([[ 1,  2,  3,  4,  1,  2,  3,  4,  1,  2,  3,  4],\n",
            "        [ 5,  6,  7,  8,  5,  6,  7,  8,  5,  6,  7,  8],\n",
            "        [ 9, 10, 11, 12,  9, 10, 11, 12,  9, 10, 11, 12]])\n"
          ]
        }
      ]
    },
    {
      "cell_type": "markdown",
      "source": [
        "###3) 텐서 형번환(type casting)\n",
        "\n",
        "* 텐서의 자료형(정수, 실수 등)을 변환할 수 있다."
      ],
      "metadata": {
        "id": "U2LykS_Ire1s"
      }
    },
    {
      "cell_type": "code",
      "source": [
        "a = torch.tensor([2],dtype=torch.int)\n",
        "b = torch.tensor([5.0])\n",
        "\n",
        "print(a.dtype)\n",
        "print(b.dtype)\n",
        "\n",
        "# 텐서 a는 자동으로 float32형으로 형변환 처리\n",
        "print(a+b)\n",
        "\n",
        "# 텐서 b를 int32형으로 형변환하여 덧셈 수행\n",
        "print(a+b.type(torch.int32))"
      ],
      "metadata": {
        "colab": {
          "base_uri": "https://localhost:8080/"
        },
        "id": "SbMzitcSrnmq",
        "outputId": "05804a2f-c6ba-4341-c484-d6df528c5bc2"
      },
      "execution_count": null,
      "outputs": [
        {
          "output_type": "stream",
          "name": "stdout",
          "text": [
            "torch.int32\n",
            "torch.float32\n",
            "tensor([7.])\n",
            "tensor([7], dtype=torch.int32)\n"
          ]
        }
      ]
    },
    {
      "cell_type": "markdown",
      "source": [
        "### 4) 텐서의 모양 변경\n",
        "\n",
        "* view()는 텐서의 모양을 변경할 때 사용한다.\n",
        "* 이때, 텐서(tensor)의 순서는 변경되지 않는다."
      ],
      "metadata": {
        "id": "K1WZBNV6tL32"
      }
    },
    {
      "cell_type": "code",
      "source": [
        "# view()는 텐서의 모양을 변경할 때 사용한다.\n",
        "# 이때, 텐서(tensor)의 순서는 변경되지 않는다.\n",
        "a = torch.tensor([1,2,3,4,5,6,7,8])\n",
        "b = a.view(4,2)\n",
        "print(b)\n",
        "\n",
        "#a의 값을 변경하면 b도 변경(주소값을 변경하고 있음)\n",
        "a[0] = 7\n",
        "print(b)\n",
        "\n",
        "#a의 값을 복사(copy)한 뒤에 변경\n",
        "c = a.clone().view(4,2)\n",
        "a[0] = 9\n",
        "print(c)"
      ],
      "metadata": {
        "colab": {
          "base_uri": "https://localhost:8080/"
        },
        "id": "-wEdB_oRtZCr",
        "outputId": "6d5b4435-d808-4dcc-9fee-a98d26bb83c3"
      },
      "execution_count": null,
      "outputs": [
        {
          "output_type": "stream",
          "name": "stdout",
          "text": [
            "tensor([[1, 2],\n",
            "        [3, 4],\n",
            "        [5, 6],\n",
            "        [7, 8]])\n",
            "tensor([[7, 2],\n",
            "        [3, 4],\n",
            "        [5, 6],\n",
            "        [7, 8]])\n",
            "tensor([[7, 2],\n",
            "        [3, 4],\n",
            "        [5, 6],\n",
            "        [7, 8]])\n"
          ]
        }
      ]
    },
    {
      "cell_type": "markdown",
      "source": [
        "### 5) 텐서의 차원 교환\n",
        "\n",
        "* 하나의 텐서에서 특정한 차원끼리 순서를 교체할 수 있다."
      ],
      "metadata": {
        "id": "YMaW2DHyxPfm"
      }
    },
    {
      "cell_type": "code",
      "source": [
        "a = torch.rand((64,32,3))\n",
        "print(a.shape)\n",
        "\n",
        "b = a.permute(2,1,0) #차원 자체를 교환\n",
        "# (2번째 축, 1번째 축, 0번째 축)의 형태가 되도록 한다.\n",
        "print(b.shape)"
      ],
      "metadata": {
        "colab": {
          "base_uri": "https://localhost:8080/"
        },
        "id": "bcA--qADy7qN",
        "outputId": "05783072-72ca-4b09-a9b4-7900be39a0ec"
      },
      "execution_count": null,
      "outputs": [
        {
          "output_type": "stream",
          "name": "stdout",
          "text": [
            "torch.Size([64, 32, 3])\n",
            "torch.Size([3, 32, 64])\n"
          ]
        }
      ]
    },
    {
      "cell_type": "markdown",
      "source": [
        "## 텐서의 연산과 함수"
      ],
      "metadata": {
        "id": "B2P6nR456AvX"
      }
    },
    {
      "cell_type": "markdown",
      "source": [
        "### 1) 텐서의 연산\n",
        "* 텐서에 대하여 사칙연산 등 기본적인 연산을 수행할 수 있다."
      ],
      "metadata": {
        "id": "rmSiCUv16Gt-"
      }
    },
    {
      "cell_type": "code",
      "source": [
        "# 같은 크기를 가진 두 개의 텐서에 대하여 사칙연산 가능\n",
        "# 기본적으로 요소별(element-wise) 연산\n",
        "\n",
        "a = torch.tensor([\n",
        "    [1,2],\n",
        "    [3,4]\n",
        "])\n",
        "\n",
        "b = torch.tensor([\n",
        "    [5,6],\n",
        "    [7,8]\n",
        "])\n",
        "\n",
        "#같은 위치에 대하여 계산됨\n",
        "print(a+b)\n",
        "print(a-b)\n",
        "print(a*b)\n",
        "print(a/b)"
      ],
      "metadata": {
        "colab": {
          "base_uri": "https://localhost:8080/"
        },
        "id": "3umARE4F6RZ-",
        "outputId": "cd050545-2ee2-4a2c-cdf5-adf11cbf2fb7"
      },
      "execution_count": null,
      "outputs": [
        {
          "output_type": "stream",
          "name": "stdout",
          "text": [
            "tensor([[ 6,  8],\n",
            "        [10, 12]])\n",
            "tensor([[-4, -4],\n",
            "        [-4, -4]])\n",
            "tensor([[ 5, 12],\n",
            "        [21, 32]])\n",
            "tensor([[0.2000, 0.3333],\n",
            "        [0.4286, 0.5000]])\n"
          ]
        }
      ]
    },
    {
      "cell_type": "markdown",
      "source": [
        "* 행렬 곱을 수행할 수 있다."
      ],
      "metadata": {
        "id": "Pw_WOWNi607o"
      }
    },
    {
      "cell_type": "code",
      "source": [
        "a = torch.tensor([\n",
        "    [1,2],\n",
        "    [3,4]\n",
        "])\n",
        "\n",
        "b = torch.tensor([\n",
        "    [5,6],\n",
        "    [7,8]\n",
        "])\n",
        "\n",
        "#행렬 곱(matrix multiplication) 수행\n",
        "print(a.matmul(b))\n",
        "print(torch.matmul(a,b))"
      ],
      "metadata": {
        "colab": {
          "base_uri": "https://localhost:8080/"
        },
        "id": "N2AQ1PUi66Qd",
        "outputId": "111f0e70-6205-4075-d5e0-09aa1e8d6793"
      },
      "execution_count": null,
      "outputs": [
        {
          "output_type": "stream",
          "name": "stdout",
          "text": [
            "tensor([[19, 22],\n",
            "        [43, 50]])\n",
            "tensor([[19, 22],\n",
            "        [43, 50]])\n"
          ]
        }
      ]
    },
    {
      "cell_type": "markdown",
      "source": [
        "### 2) 텐서의 평균 함수\n",
        "* 텐서의 평균(mean)을 계산할 수 있다."
      ],
      "metadata": {
        "id": "fkwDFsnJOiW0"
      }
    },
    {
      "cell_type": "code",
      "source": [
        "a = torch.Tensor([\n",
        "    [1,2,3,4],\n",
        "    [5,6,7,8]\n",
        "])\n",
        "\n",
        "print(a)\n",
        "print(a.mean()) #전체 원소에 대한 평균\n",
        "print(a.mean(dim=1)) #각 열 방향에 대하여 평균\n",
        "print(a.mean(dim=0)) #각 행 방향에 대하여 평균"
      ],
      "metadata": {
        "colab": {
          "base_uri": "https://localhost:8080/"
        },
        "id": "7EUsmZA_OqYD",
        "outputId": "b38222a3-ea2b-4bd3-f369-39c7a1a7361f"
      },
      "execution_count": null,
      "outputs": [
        {
          "output_type": "stream",
          "name": "stdout",
          "text": [
            "tensor([[1., 2., 3., 4.],\n",
            "        [5., 6., 7., 8.]])\n",
            "tensor(4.5000)\n",
            "tensor([2.5000, 6.5000])\n",
            "tensor([3., 4., 5., 6.])\n"
          ]
        }
      ]
    },
    {
      "cell_type": "markdown",
      "source": [
        "### 3) 텐서의 차원 줄이기 혹은 늘리기\n",
        "\n",
        "* unsqueeze() 함수는 크기가 1인 차원을 추가한다.\n",
        "    \n",
        "    * 배치(batch)차원을 추가하기 위한 목적으로 흔히 사용된다.\n",
        "\n",
        "* squeeze()함수는 크기가 1인 차원을 제거한다."
      ],
      "metadata": {
        "id": "-aWHO_OxTKAO"
      }
    },
    {
      "cell_type": "code",
      "source": [
        "a = torch.tensor([\n",
        "    [1,2,3,4],\n",
        "    [5,6,7,8]\n",
        "])\n",
        "\n",
        "print(a.shape)\n",
        "#첫 번째 축에 자원 추가\n",
        "a = a.unsqueeze(0)\n",
        "print(a)\n",
        "print(a.shape)\n",
        "\n",
        "#네 번째 축에 자원 추가\n",
        "a = a.unsqueeze(3)\n",
        "print(a)\n",
        "print(a.shape)\n",
        "\n",
        "\n",
        "#첫 번째 축에 자원 제거\n",
        "a = a.squeeze(0)\n",
        "print(a)\n",
        "print(a.shape)"
      ],
      "metadata": {
        "colab": {
          "base_uri": "https://localhost:8080/"
        },
        "id": "ZlQE9bdLUrXn",
        "outputId": "eb73f635-34aa-4a60-e536-6bad30c7a478"
      },
      "execution_count": null,
      "outputs": [
        {
          "output_type": "stream",
          "name": "stdout",
          "text": [
            "torch.Size([2, 4])\n",
            "tensor([[[1, 2, 3, 4],\n",
            "         [5, 6, 7, 8]]])\n",
            "torch.Size([1, 2, 4])\n",
            "tensor([[[[1],\n",
            "          [2],\n",
            "          [3],\n",
            "          [4]],\n",
            "\n",
            "         [[5],\n",
            "          [6],\n",
            "          [7],\n",
            "          [8]]]])\n",
            "torch.Size([1, 2, 4, 1])\n",
            "tensor([[[1],\n",
            "         [2],\n",
            "         [3],\n",
            "         [4]],\n",
            "\n",
            "        [[5],\n",
            "         [6],\n",
            "         [7],\n",
            "         [8]]])\n",
            "torch.Size([2, 4, 1])\n"
          ]
        }
      ]
    },
    {
      "cell_type": "markdown",
      "source": [
        "## 자동 미분과 기울기 (Gradient)\n",
        "\n",
        "* PyTorch에서는 연산에 대하여 자동 미분을 수행할 수 있다.\n",
        "\n",
        "    * **z.grad_fn**: 이 연산이 어떻게 만들어졌는지를 알려주는 함수 (덧셈이면 <AddBackward0>)\n",
        "    * **requires_grad=True** : 설정하면 PyTorch는 기울기를 추적\n",
        "    * **backward**: 계산 그래프를 따라 자동으로 미분을 수행하고,\n",
        "requires_grad=True인 텐서들의 .grad에 결과를 채워줌\n",
        "    * **"
      ],
      "metadata": {
        "id": "2UjKnKr-T07y"
      }
    },
    {
      "cell_type": "code",
      "source": [
        "import torch\n",
        "\n",
        "# requires_grad를 설정할 때만 기울기 추적\n",
        "x = torch.tensor([3.0, 4.0], requires_grad=True)\n",
        "y = torch.tensor([1.0, 2.0], requires_grad=True)\n",
        "z = x + y\n",
        "\n",
        "print(z)\n",
        "print(z.grad_fn)\n",
        "\n",
        "out = z.mean()\n",
        "print(out)\n",
        "print(out.grad_fn)\n",
        "\n",
        "out.backward()\n",
        "print(x.grad)\n",
        "print(y.grad)\n",
        "print(z.grad)"
      ],
      "metadata": {
        "colab": {
          "base_uri": "https://localhost:8080/"
        },
        "id": "ZMmrkBJUWqVS",
        "outputId": "6c240248-f5e2-4fa5-8e98-2e46f936c4b4"
      },
      "execution_count": 4,
      "outputs": [
        {
          "output_type": "stream",
          "name": "stdout",
          "text": [
            "tensor([4., 6.], grad_fn=<AddBackward0>)\n",
            "<AddBackward0 object at 0x7c594f94ee30>\n",
            "tensor(5., grad_fn=<MeanBackward0>)\n",
            "<MeanBackward0 object at 0x7c594f94f460>\n",
            "tensor([0.5000, 0.5000])\n",
            "tensor([0.5000, 0.5000])\n",
            "None\n"
          ]
        },
        {
          "output_type": "stream",
          "name": "stderr",
          "text": [
            "<ipython-input-4-e1305e6ebef4>:18: UserWarning: The .grad attribute of a Tensor that is not a leaf Tensor is being accessed. Its .grad attribute won't be populated during autograd.backward(). If you indeed want the .grad field to be populated for a non-leaf Tensor, use .retain_grad() on the non-leaf Tensor. If you access the non-leaf Tensor by mistake, make sure you access the leaf Tensor instead. See github.com/pytorch/pytorch/pull/30531 for more informations. (Triggered internally at /pytorch/build/aten/src/ATen/core/TensorBody.h:489.)\n",
            "  print(z.grad)\n"
          ]
        }
      ]
    },
    {
      "cell_type": "markdown",
      "source": [
        "* 일반적으로 모델을 학습할 때는 기울기(gradient)를 추적한다.\n",
        "\n",
        "* 하지만, 학습된 모델을 사용할 때는 파라미터를 업데이트하지 않으므로, 기울기를 추적하지 않는 것이 일반적이다.\n",
        "\n",
        "    * **no_grad()** 블록 내에서는 requires_grad=True가 강제로 꺼짐"
      ],
      "metadata": {
        "id": "aoT3ARBpZp68"
      }
    },
    {
      "cell_type": "code",
      "source": [
        "temp = torch.tensor([3.0, 4.0], requires_grad=True)\n",
        "print(temp.requires_grad)\n",
        "print((temp ** 2).requires_grad)\n",
        "\n",
        "# 기울기 추적을 하지 않기 때문에 계산 속도가 더 빠르다\n",
        "with torch.no_grad():\n",
        "    temp = torch.tensor([3.0, 4.0], requires_grad=True)\n",
        "    print(temp.requires_grad)\n",
        "    print((temp ** 2).requires_grad)"
      ],
      "metadata": {
        "colab": {
          "base_uri": "https://localhost:8080/"
        },
        "id": "VEmQrWTDaAVU",
        "outputId": "e902eb62-a4a3-40ef-a4e7-e7538f67680a"
      },
      "execution_count": 7,
      "outputs": [
        {
          "output_type": "stream",
          "name": "stdout",
          "text": [
            "True\n",
            "True\n",
            "True\n",
            "False\n"
          ]
        }
      ]
    }
  ]
}